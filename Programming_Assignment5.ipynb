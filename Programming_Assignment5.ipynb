{
 "cells": [
  {
   "cell_type": "markdown",
   "id": "245012cc",
   "metadata": {},
   "source": [
    "# 1. Write a Python Program to Find LCM?"
   ]
  },
  {
   "cell_type": "code",
   "execution_count": 13,
   "id": "a22a956f",
   "metadata": {},
   "outputs": [
    {
     "name": "stdout",
     "output_type": "stream",
     "text": [
      "Enter a first number:10\n",
      "Enter a second number:3\n",
      "30\n"
     ]
    }
   ],
   "source": [
    "def lcm(a,b):\n",
    "    if a>b:\n",
    "        greater = a\n",
    "    else:\n",
    "        greater = b\n",
    "    while(True):\n",
    "        if((greater % a == 0) and (greater % b == 0)):\n",
    "            lcm = greater\n",
    "            break\n",
    "        greater += 1\n",
    "    return lcm\n",
    "a=int(input(\"Enter a first number:\"))\n",
    "b=int(input(\"Enter a second number:\"))\n",
    "print(lcm(a,b))"
   ]
  },
  {
   "cell_type": "markdown",
   "id": "29ff4706",
   "metadata": {},
   "source": [
    "# 2. Write a Python Program to Find HCF?"
   ]
  },
  {
   "cell_type": "code",
   "execution_count": 20,
   "id": "2bd6820a",
   "metadata": {},
   "outputs": [
    {
     "name": "stdout",
     "output_type": "stream",
     "text": [
      "Enter a first number:5\n",
      "Enter a second number:7\n",
      "The hcf of 5 and 7 is 1\n"
     ]
    }
   ],
   "source": [
    "def gcd(a,b):\n",
    "    if a>b:\n",
    "        small=b\n",
    "    else:\n",
    "        small=a\n",
    "    for i in range(1,small+1):\n",
    "        if((a%i==0) and (b%i==0)):\n",
    "            hcf=i\n",
    "    return hcf\n",
    "x=int(input(\"Enter a first number:\"))\n",
    "y=int(input(\"Enter a second number:\"))\n",
    "z=gcd(x,y)\n",
    "print(f\"The hcf of {x} and {y} is {z}\")"
   ]
  },
  {
   "cell_type": "markdown",
   "id": "3540bd8a",
   "metadata": {},
   "source": [
    "# 3. Write a Python Program to Convert Decimal to Binary, Octal and Hexadecimal?"
   ]
  },
  {
   "cell_type": "code",
   "execution_count": 47,
   "id": "f250e01f",
   "metadata": {},
   "outputs": [
    {
     "name": "stdout",
     "output_type": "stream",
     "text": [
      "Enter a number11\n",
      "1011\n",
      "13\n",
      "b\n"
     ]
    }
   ],
   "source": [
    "def binary(n):\n",
    "    return bin(n).replace(\"0b\", \"\")\n",
    "def octal(n):\n",
    "    return oct(n).replace(\"0o\", \"\")\n",
    "def hexadecimal(n):\n",
    "    return hex(n).replace(\"0x\", \"\")\n",
    "n=int(input(\"Enter a number\"))\n",
    "print(binary(n))\n",
    "print(octal(n))\n",
    "print(hexadecimal(n))"
   ]
  },
  {
   "cell_type": "markdown",
   "id": "e57a1ef0",
   "metadata": {},
   "source": [
    "# 4. Write a Python Program To Find ASCII value of a character?"
   ]
  },
  {
   "cell_type": "code",
   "execution_count": 49,
   "id": "4883d198",
   "metadata": {},
   "outputs": [
    {
     "name": "stdout",
     "output_type": "stream",
     "text": [
      "Enter a character:A\n",
      "The ASCII value of A is 65\n"
     ]
    }
   ],
   "source": [
    "a=input(\"Enter a character:\")\n",
    "b=ord(a)\n",
    "print(f\"The ASCII value of {a} is {b}\")"
   ]
  },
  {
   "cell_type": "markdown",
   "id": "ca755c48",
   "metadata": {},
   "source": [
    "# 5. Write a Python Program to Make a Simple Calculator with 4 basic mathematical operations?"
   ]
  },
  {
   "cell_type": "code",
   "execution_count": 1,
   "id": "ec3e74f3",
   "metadata": {},
   "outputs": [
    {
     "name": "stdout",
     "output_type": "stream",
     "text": [
      "Enter a number one:20\n",
      "Enter a number one:5\n",
      "Enter which operation you want to execute\n",
      "+\n",
      "-\n",
      "*\n",
      "//\n",
      "*\n",
      "100.0\n"
     ]
    }
   ],
   "source": [
    "x=float(input(\"Enter a number one:\"))\n",
    "y=float(input(\"Enter a number one:\"))\n",
    "a=input(\"\"\"Enter which operation you want to execute\n",
    "+\n",
    "-\n",
    "*\n",
    "//\n",
    "\"\"\")\n",
    "if a=='+':\n",
    "    print(x+y)\n",
    "elif a=='-':\n",
    "    print(x-y)\n",
    "elif a=='*':\n",
    "    print(x*y)\n",
    "elif a=='//':\n",
    "    print(x//y)\n",
    "else:\n",
    "    print(\"Enter the correct operation\")"
   ]
  },
  {
   "cell_type": "code",
   "execution_count": null,
   "id": "bac07ad3",
   "metadata": {},
   "outputs": [],
   "source": []
  },
  {
   "cell_type": "code",
   "execution_count": null,
   "id": "8489fd3c",
   "metadata": {},
   "outputs": [],
   "source": []
  }
 ],
 "metadata": {
  "kernelspec": {
   "display_name": "Python 3 (ipykernel)",
   "language": "python",
   "name": "python3"
  },
  "language_info": {
   "codemirror_mode": {
    "name": "ipython",
    "version": 3
   },
   "file_extension": ".py",
   "mimetype": "text/x-python",
   "name": "python",
   "nbconvert_exporter": "python",
   "pygments_lexer": "ipython3",
   "version": "3.9.7"
  }
 },
 "nbformat": 4,
 "nbformat_minor": 5
}
